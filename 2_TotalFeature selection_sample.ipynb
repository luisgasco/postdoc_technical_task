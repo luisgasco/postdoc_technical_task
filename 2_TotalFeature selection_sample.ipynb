{
 "cells": [
  {
   "cell_type": "code",
   "execution_count": 1,
   "metadata": {},
   "outputs": [],
   "source": [
    "import numpy as np\n",
    "import pandas as pd\n",
    "from xgboost import XGBClassifier\n",
    "from sklearn.metrics import matthews_corrcoef, roc_auc_score\n",
    "from sklearn.model_selection import cross_val_score, StratifiedKFold\n",
    "import matplotlib.pyplot as plt\n",
    "import seaborn as sns\n",
    "import category_encoders as ce "
   ]
  },
  {
   "cell_type": "markdown",
   "metadata": {},
   "source": [
    "# LOAD DATA"
   ]
  },
  {
   "cell_type": "code",
   "execution_count": 2,
   "metadata": {},
   "outputs": [],
   "source": [
    "# Load pickle file with the categorical features selected\n",
    "import pickle\n",
    "with open('C://Users/luisgasco/Documents/bosh_kaggle_comp/data/list_sel_cat_feat_10k.pkl', 'rb') as f:\n",
    "    cat_features = pickle.load(f)"
   ]
  },
  {
   "cell_type": "markdown",
   "metadata": {},
   "source": [
    "Read the a sample of the rest of the dataset:"
   ]
  },
  {
   "cell_type": "code",
   "execution_count": 3,
   "metadata": {},
   "outputs": [
    {
     "name": "stderr",
     "output_type": "stream",
     "text": [
      "C:\\Users\\luisgasco\\.conda\\envs\\tensorflow\\lib\\site-packages\\IPython\\core\\interactiveshell.py:3337: DtypeWarning: Columns (2,3,4,6,7,8,9,10,21,44,46,76,82,99,208,233,357,369,396,875,883,1022,1066,1081,1095,1096,1147,1184,1239,1321,1421,1431,1678,1693,1985,1987,2002) have mixed types.Specify dtype option on import or set low_memory=False.\n",
      "  if (await self.run_code(code, result,  async_=asy)):\n",
      "C:\\Users\\luisgasco\\.conda\\envs\\tensorflow\\lib\\site-packages\\IPython\\core\\interactiveshell.py:3337: DtypeWarning: Columns (2,3,4,6,7,8,9,10,21,44,46,76,82,99,152,208,233,357,369,396,520,592,595,655,708,726,760,875,883,1022,1095,1147,1184,1239,1321,1421,1431,1678,1693,1985,1987,2002) have mixed types.Specify dtype option on import or set low_memory=False.\n",
      "  if (await self.run_code(code, result,  async_=asy)):\n",
      "C:\\Users\\luisgasco\\.conda\\envs\\tensorflow\\lib\\site-packages\\IPython\\core\\interactiveshell.py:3337: DtypeWarning: Columns (2,3,4,6,7,8,9,10,21,44,46,76,82,99,152,233,357,369,371,396,580,592,595,655,708,875,883,1022,1095,1147,1184,1239,1321,1404,1421,1431,1678,1693,1818,1887,1985,1987,2002) have mixed types.Specify dtype option on import or set low_memory=False.\n",
      "  if (await self.run_code(code, result,  async_=asy)):\n",
      "C:\\Users\\luisgasco\\.conda\\envs\\tensorflow\\lib\\site-packages\\IPython\\core\\interactiveshell.py:3337: DtypeWarning: Columns (2,3,4,6,7,8,9,10,21,44,46,76,82,99,152,208,233,357,369,371,396,466,481,495,496,520,655,708,782,805,875,883,1022,1095,1147,1184,1239,1321,1421,1431,1693,1985,1987,2002) have mixed types.Specify dtype option on import or set low_memory=False.\n",
      "  if (await self.run_code(code, result,  async_=asy)):\n",
      "C:\\Users\\luisgasco\\.conda\\envs\\tensorflow\\lib\\site-packages\\IPython\\core\\interactiveshell.py:3337: DtypeWarning: Columns (2,3,4,6,7,8,9,10,21,44,46,76,82,99,208,233,592,595,655,708,782,805,875,883,1022,1095,1125,1147,1184,1239,1321,1331,1404,1421,1431,1678,1693,1818,1887,1985,1987,2002) have mixed types.Specify dtype option on import or set low_memory=False.\n",
      "  if (await self.run_code(code, result,  async_=asy)):\n",
      "C:\\Users\\luisgasco\\.conda\\envs\\tensorflow\\lib\\site-packages\\IPython\\core\\interactiveshell.py:3337: DtypeWarning: Columns (2,3,4,6,7,8,9,10,21,44,46,76,82,99,208,233,371,592,595,655,708,782,805,875,883,1022,1066,1081,1095,1096,1147,1184,1239,1321,1421,1431,1693,1818,1887,1985,1987,2002) have mixed types.Specify dtype option on import or set low_memory=False.\n",
      "  if (await self.run_code(code, result,  async_=asy)):\n",
      "C:\\Users\\luisgasco\\.conda\\envs\\tensorflow\\lib\\site-packages\\IPython\\core\\interactiveshell.py:3337: DtypeWarning: Columns (2,3,4,6,7,8,9,10,21,44,46,76,82,99,152,233,357,369,396,592,595,655,708,782,805,875,883,1022,1066,1081,1095,1096,1147,1184,1239,1321,1331,1404,1421,1431,1489,1678,1693,1985,1987,2002) have mixed types.Specify dtype option on import or set low_memory=False.\n",
      "  if (await self.run_code(code, result,  async_=asy)):\n",
      "C:\\Users\\luisgasco\\.conda\\envs\\tensorflow\\lib\\site-packages\\IPython\\core\\interactiveshell.py:3337: DtypeWarning: Columns (2,3,4,6,7,8,9,10,21,44,46,76,82,99,233,357,369,371,396,592,595,782,805,875,883,1022,1095,1147,1184,1239,1321,1331,1421,1431,1678,1693,1985,1987,2002,2044) have mixed types.Specify dtype option on import or set low_memory=False.\n",
      "  if (await self.run_code(code, result,  async_=asy)):\n",
      "C:\\Users\\luisgasco\\.conda\\envs\\tensorflow\\lib\\site-packages\\IPython\\core\\interactiveshell.py:3337: DtypeWarning: Columns (2,3,4,6,7,8,9,10,21,44,46,76,82,99,208,233,357,369,371,396,466,481,495,496,592,595,708,782,805,875,883,1022,1095,1125,1147,1184,1239,1321,1331,1421,1431,1678,1693,1818,1887,1985,1987,2002) have mixed types.Specify dtype option on import or set low_memory=False.\n",
      "  if (await self.run_code(code, result,  async_=asy)):\n",
      "C:\\Users\\luisgasco\\.conda\\envs\\tensorflow\\lib\\site-packages\\IPython\\core\\interactiveshell.py:3337: DtypeWarning: Columns (6,7,8,9,10,21,44,46,76,82,99,208,233,357,369,371,396,466,481,495,496,655,708,758,760,782,805,875,883,1022,1095,1125,1147,1184,1239,1321,1421,1431,1678,1693,1804,1818,1887,1948,1985,1987,2002) have mixed types.Specify dtype option on import or set low_memory=False.\n",
      "  if (await self.run_code(code, result,  async_=asy)):\n",
      "C:\\Users\\luisgasco\\.conda\\envs\\tensorflow\\lib\\site-packages\\IPython\\core\\interactiveshell.py:3337: DtypeWarning: Columns (2,3,4,6,7,8,9,10,21,44,46,76,82,99,208,233,357,369,371,396,592,595,655,708,782,805,875,883,1022,1066,1081,1095,1096,1147,1184,1239,1321,1404,1421,1431,1678,1693,1985,1987,2002) have mixed types.Specify dtype option on import or set low_memory=False.\n",
      "  if (await self.run_code(code, result,  async_=asy)):\n",
      "C:\\Users\\luisgasco\\.conda\\envs\\tensorflow\\lib\\site-packages\\IPython\\core\\interactiveshell.py:3337: DtypeWarning: Columns (3,4,6,7,8,9,10,21,44,46,76,82,99,152,233,357,369,396,466,481,495,496,592,595,655,758,760,875,883,1022,1066,1081,1095,1096,1147,1184,1239,1321,1404,1421,1431,1678,1693,1818,1887,1985,1987,2002,2091) have mixed types.Specify dtype option on import or set low_memory=False.\n",
      "  if (await self.run_code(code, result,  async_=asy)):\n"
     ]
    }
   ],
   "source": [
    "date_chunks = pd.read_csv(\"C://Users/luisgasco/Documents/bosh_kaggle_comp/data/train_date.csv\", chunksize=100000, dtype=np.float32)\n",
    "num_chunks = pd.read_csv(\"C://Users/luisgasco/Documents/bosh_kaggle_comp/data/train_numeric.csv\",\n",
    "                         usecols=list(range(970)), chunksize=100000, dtype=np.float32)\n",
    "cat_chunks = pd.read_csv(\"C://Users/luisgasco/Documents/bosh_kaggle_comp/data/train_categorical.csv\", usecols = cat_features, chunksize=100000)\n",
    "X = pd.concat([pd.concat([dchunk, nchunk, cchunk], axis=1).sample(frac=0.05)\n",
    "               for dchunk, nchunk, cchunk in zip(date_chunks, num_chunks, cat_chunks)])\n"
   ]
  },
  {
   "cell_type": "code",
   "execution_count": 4,
   "metadata": {},
   "outputs": [
    {
     "data": {
      "text/plain": [
       "52933    0.0\n",
       "30367    0.0\n",
       "19698    0.0\n",
       "95176    0.0\n",
       "95642    0.0\n",
       "Name: Response, dtype: float32"
      ]
     },
     "execution_count": 4,
     "metadata": {},
     "output_type": "execute_result"
    }
   ],
   "source": [
    "y = X.Response\n",
    "y.head()"
   ]
  },
  {
   "cell_type": "code",
   "execution_count": 5,
   "metadata": {},
   "outputs": [],
   "source": [
    "X = X.drop([\"Id\",\"Response\"],axis=1)"
   ]
  },
  {
   "cell_type": "code",
   "execution_count": 6,
   "metadata": {},
   "outputs": [
    {
     "data": {
      "text/plain": [
       "(59187, 2199)"
      ]
     },
     "execution_count": 6,
     "metadata": {},
     "output_type": "execute_result"
    }
   ],
   "source": [
    "X.shape"
   ]
  },
  {
   "cell_type": "markdown",
   "metadata": {},
   "source": [
    "# Transformation of categorical features"
   ]
  },
  {
   "cell_type": "markdown",
   "metadata": {},
   "source": [
    "Since we plan to train models such as XGBoost and RandomForest, we need to transform the categorical variables in the same way we do in previous notebooks"
   ]
  },
  {
   "cell_type": "markdown",
   "metadata": {},
   "source": [
    "Load the previously created encoder:"
   ]
  },
  {
   "cell_type": "code",
   "execution_count": 100,
   "metadata": {},
   "outputs": [
    {
     "data": {
      "text/plain": [
       "LeaveOneOutEncoder(cols=['L1_S24_F726', 'L1_S25_F2024', 'L2_S28_F3285',\n",
       "                         'L1_S24_F1559', 'L0_S1_F29', 'L1_S24_F1646',\n",
       "                         'L0_S1_F27', 'L3_S35_F3912', 'L1_S24_F1144',\n",
       "                         'L1_S24_F1523', 'L0_S2_F41', 'L1_S25_F2000',\n",
       "                         'L1_S25_F2552', 'L1_S24_F936', 'L0_S1_F31',\n",
       "                         'L0_S10_F220', 'L1_S24_F1584', 'L0_S11_F313',\n",
       "                         'L1_S24_F1121', 'L1_S24_F1424', 'L1_S24_F1427',\n",
       "                         'L1_S24_F1462', 'L0_S9_F183', 'L1_S24_F1152',\n",
       "                         'L0_S2_F37', 'L0_S3_F79', 'L1_S24_F957',\n",
       "                         'L1_S24_F1340', 'L0_S23_F674', 'L1_S25_F2047', ...],\n",
       "                   sigma=0.1, verbose=1)"
      ]
     },
     "execution_count": 100,
     "metadata": {},
     "output_type": "execute_result"
    }
   ],
   "source": [
    "import category_encoders as ce   # version 1.2.8\n",
    "filename = \"C://Users/luisgasco/Documents/bosh_kaggle_comp/data/encoder_categorical_model_FULL_FINAL_TRUE.sav\"\n",
    "ce_target = pickle.load(open(filename, 'rb'))\n",
    "ce_target"
   ]
  },
  {
   "cell_type": "code",
   "execution_count": 101,
   "metadata": {},
   "outputs": [
    {
     "data": {
      "text/plain": [
       "(59187, 75)"
      ]
     },
     "execution_count": 101,
     "metadata": {},
     "output_type": "execute_result"
    }
   ],
   "source": [
    "cat_fet = X.loc[:, cat_features]\n",
    "cat_fet.shape"
   ]
  },
  {
   "cell_type": "code",
   "execution_count": 102,
   "metadata": {},
   "outputs": [
    {
     "name": "stdout",
     "output_type": "stream",
     "text": [
      "Wall time: 4.41 s\n"
     ]
    }
   ],
   "source": [
    "%%time\n",
    "# Transform \n",
    "cat_fet_trans = ce_target.transform(cat_fet)"
   ]
  },
  {
   "cell_type": "code",
   "execution_count": 103,
   "metadata": {},
   "outputs": [
    {
     "data": {
      "text/plain": [
       "(59187, 75)"
      ]
     },
     "execution_count": 103,
     "metadata": {},
     "output_type": "execute_result"
    }
   ],
   "source": [
    "cat_fet_trans.shape"
   ]
  },
  {
   "cell_type": "markdown",
   "metadata": {},
   "source": [
    "Concat again both the transformed categorical features with the rest of the dataframe:"
   ]
  },
  {
   "cell_type": "code",
   "execution_count": 104,
   "metadata": {},
   "outputs": [
    {
     "data": {
      "text/plain": [
       "(59187, 2199)"
      ]
     },
     "execution_count": 104,
     "metadata": {},
     "output_type": "execute_result"
    }
   ],
   "source": [
    "X_otros =  X.drop(cat_features, axis=1)\n",
    "X_end = pd.concat([X_otros,cat_fet_trans],axis=1)\n",
    "X_end.shape"
   ]
  },
  {
   "cell_type": "markdown",
   "metadata": {},
   "source": [
    "We have 2199 features. We need to reduce the feature space prior to fine tune a model. For that reason we are going to select features by its importance by using XGBoost classifier."
   ]
  },
  {
   "cell_type": "code",
   "execution_count": 65,
   "metadata": {},
   "outputs": [
    {
     "name": "stdout",
     "output_type": "stream",
     "text": [
      " ROC AUC: 0.702\n",
      " ROC AUC: 0.649\n",
      " ROC AUC: 0.655\n",
      "0.6681381084859601\n"
     ]
    }
   ],
   "source": [
    "from sklearn.model_selection import train_test_split, StratifiedKFold\n",
    "\n",
    "X2 = X_end.values\n",
    "y = y.ravel()\n",
    "\n",
    "clf = XGBClassifier(learning_rate=0.1, max_depth=3,n_estimators=100,min_child_weight=1, nthread=-1)\n",
    "cv = StratifiedKFold(n_splits=3)\n",
    "preds = np.ones(y.shape[0])\n",
    "for (train, test) in cv.split(X, y):\n",
    "    preds[test] = clf.fit(X2[train], y[train]).predict_proba(X2[test])[:,1]\n",
    "    print(\" ROC AUC: {:.3f}\".format( roc_auc_score(y[test], preds[test])))\n",
    "print(roc_auc_score(y, preds))"
   ]
  },
  {
   "cell_type": "code",
   "execution_count": 114,
   "metadata": {},
   "outputs": [
    {
     "data": {
      "text/plain": [
       "L3_S29_F3336    0.012911\n",
       "L3_S48_F4193    0.012609\n",
       "L0_S9_F170      0.011609\n",
       "L3_S32_F3854    0.010966\n",
       "L3_S30_F3819    0.010442\n",
       "                  ...   \n",
       "L3_S32_D3852    0.005547\n",
       "L3_S30_F3579    0.005513\n",
       "L0_S0_F0        0.005479\n",
       "L1_S24_F1609    0.005469\n",
       "L3_S36_F3920    0.005379\n",
       "Length: 100, dtype: float32"
      ]
     },
     "execution_count": 114,
     "metadata": {},
     "output_type": "execute_result"
    }
   ],
   "source": [
    "most_important_features = pd.Series(clf.feature_importances_, index=X_end.columns).nlargest(100)\n",
    "most_important_features"
   ]
  },
  {
   "cell_type": "code",
   "execution_count": 124,
   "metadata": {},
   "outputs": [
    {
     "data": {
      "text/plain": [
       "(150, 2)"
      ]
     },
     "execution_count": 124,
     "metadata": {},
     "output_type": "execute_result"
    }
   ],
   "source": [
    "df_importance = pd.DataFrame({'feature_name':X_end.columns, 'importance':clf.feature_importances_})\n",
    "df_importance = df_importance.sort_values(by=['importance'], ascending=False)\n",
    "df_importance_150 = df_importance[:150] \n",
    "df_importance_150.shape"
   ]
  },
  {
   "cell_type": "code",
   "execution_count": 125,
   "metadata": {},
   "outputs": [],
   "source": [
    "df_importance_150.to_pickle(\"C://Users/luisgasco/Documents/bosh_kaggle_comp/data/final_selected_features.pkl\")"
   ]
  },
  {
   "cell_type": "code",
   "execution_count": null,
   "metadata": {},
   "outputs": [],
   "source": []
  }
 ],
 "metadata": {
  "kernelspec": {
   "display_name": "Python 3.7 (tensorflow)",
   "language": "python",
   "name": "tensorflow"
  },
  "language_info": {
   "codemirror_mode": {
    "name": "ipython",
    "version": 3
   },
   "file_extension": ".py",
   "mimetype": "text/x-python",
   "name": "python",
   "nbconvert_exporter": "python",
   "pygments_lexer": "ipython3",
   "version": "3.7.7"
  }
 },
 "nbformat": 4,
 "nbformat_minor": 4
}
