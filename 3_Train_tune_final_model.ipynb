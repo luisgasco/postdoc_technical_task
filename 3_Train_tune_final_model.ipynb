{
 "cells": [
  {
   "cell_type": "markdown",
   "metadata": {},
   "source": [
    "# Load libraries"
   ]
  },
  {
   "cell_type": "code",
   "execution_count": 95,
   "metadata": {},
   "outputs": [],
   "source": [
    "import numpy as np\n",
    "import pandas as pd\n",
    "from xgboost import XGBClassifier\n",
    "from sklearn.metrics import matthews_corrcoef, roc_auc_score\n",
    "from sklearn.model_selection import cross_val_score, StratifiedKFold\n",
    "import matplotlib.pyplot as plt\n",
    "import seaborn as sns\n",
    "import category_encoders as ce "
   ]
  },
  {
   "cell_type": "markdown",
   "metadata": {},
   "source": [
    "# Load data"
   ]
  },
  {
   "cell_type": "markdown",
   "metadata": {},
   "source": [
    "Load selected features"
   ]
  },
  {
   "cell_type": "code",
   "execution_count": 96,
   "metadata": {},
   "outputs": [],
   "source": [
    "# Load pickle file with the categorical features selected\n",
    "import pickle\n",
    "with open(\"C://Users/luisgasco/Documents/bosh_kaggle_comp/data/final_selected_features.pkl\", 'rb') as f:\n",
    "    df_importance_150 = pickle.load(f)\n",
    "    \n",
    "list_features = list(df_importance_150.feature_name)"
   ]
  },
  {
   "cell_type": "code",
   "execution_count": 97,
   "metadata": {},
   "outputs": [],
   "source": [
    "dat_cols = list(pd.read_csv(\"C://Users/luisgasco/Documents/bosh_kaggle_comp/data/train_date.csv\", nrows=0, dtype=np.float32).columns)\n",
    "num_cols = list(pd.read_csv(\"C://Users/luisgasco/Documents/bosh_kaggle_comp/data/train_numeric.csv\", nrows=0, dtype=np.float32).columns)\n",
    "cat_cols = list(pd.read_csv(\"C://Users/luisgasco/Documents/bosh_kaggle_comp/data/train_categorical.csv\", nrows=0).columns)\n",
    "\n",
    "# Python program to find the common elements  \n",
    "# in two lists \n",
    "def common_member(a, b): \n",
    "    a_set = set(a) \n",
    "    b_set = set(b) \n",
    "  \n",
    "    if (a_set & b_set): \n",
    "        lista = list(a_set & b_set) \n",
    "    else: \n",
    "        print(\"No common elements\")  \n",
    "    return lista\n",
    "        \n",
    "sel_cat = common_member(list_features, cat_cols)\n",
    "sel_num = common_member(list_features, num_cols)\n",
    "sel_dat = common_member(list_features, dat_cols)\n"
   ]
  },
  {
   "cell_type": "code",
   "execution_count": 205,
   "metadata": {},
   "outputs": [
    {
     "data": {
      "text/plain": [
       "['L3_S32_F3854']"
      ]
     },
     "execution_count": 205,
     "metadata": {},
     "output_type": "execute_result"
    }
   ],
   "source": [
    "sel_cat"
   ]
  },
  {
   "cell_type": "code",
   "execution_count": 175,
   "metadata": {},
   "outputs": [
    {
     "name": "stderr",
     "output_type": "stream",
     "text": [
      "C:\\Users\\luisgasco\\.conda\\envs\\tensorflow\\lib\\site-packages\\IPython\\core\\interactiveshell.py:3337: DtypeWarning: Columns (1987) have mixed types.Specify dtype option on import or set low_memory=False.\n",
      "  if (await self.run_code(code, result,  async_=asy)):\n"
     ]
    }
   ],
   "source": [
    "date_chunks = pd.read_csv(\"C://Users/luisgasco/Documents/bosh_kaggle_comp/data/train_date.csv\", usecols = sel_dat, chunksize=100000, dtype=np.float32)\n",
    "num_chunks = pd.read_csv(\"C://Users/luisgasco/Documents/bosh_kaggle_comp/data/train_numeric.csv\", chunksize=100000, dtype=np.float32, usecols = list([\"Response\"]) +sel_num)\n",
    "cat_chunks = pd.read_csv(\"C://Users/luisgasco/Documents/bosh_kaggle_comp/data/train_categorical.csv\", usecols = sel_cat, chunksize=100000)\n",
    "X = pd.concat([pd.concat([dchunk, nchunk, cchunk], axis=1).sample(frac=0.4)\n",
    "               for dchunk, nchunk, cchunk in zip(date_chunks, num_chunks, cat_chunks)])"
   ]
  },
  {
   "cell_type": "code",
   "execution_count": 176,
   "metadata": {},
   "outputs": [],
   "source": [
    "y = X.Response\n",
    "X = X.drop([\"Response\"],axis=1)"
   ]
  },
  {
   "cell_type": "markdown",
   "metadata": {},
   "source": [
    "### Transform the categorical variables training a new encoder:"
   ]
  },
  {
   "cell_type": "code",
   "execution_count": 177,
   "metadata": {},
   "outputs": [
    {
     "data": {
      "text/plain": [
       "LeaveOneOutEncoder(cols=['L3_S32_F3854'], sigma=0.1, verbose=1)"
      ]
     },
     "execution_count": 177,
     "metadata": {},
     "output_type": "execute_result"
    }
   ],
   "source": [
    "import category_encoders as ce   # version 1.2.8\n",
    "# Target with default parameters\n",
    "ce_target = ce.LeaveOneOutEncoder(verbose=1,cols = list(sel_cat),sigma=0.1)\n",
    "ce_target.fit(X,y)"
   ]
  },
  {
   "cell_type": "code",
   "execution_count": 179,
   "metadata": {},
   "outputs": [],
   "source": [
    "X_trans = ce_target.transform(X)"
   ]
  },
  {
   "cell_type": "code",
   "execution_count": 212,
   "metadata": {},
   "outputs": [],
   "source": [
    "# Save the model to use it with testing\n",
    "import pickle\n",
    "# open a file, where you ant to store the data\n",
    "\n",
    "filename = \"C://Users/luisgasco/Documents/bosh_kaggle_comp/data/encoder_for_testing.sav\"\n",
    "pickle.dump(ce_target, open(filename, 'wb'))"
   ]
  },
  {
   "cell_type": "markdown",
   "metadata": {},
   "source": [
    "# Applied gridsearch and stratifiedkfold to get the best hyperparameters"
   ]
  },
  {
   "cell_type": "code",
   "execution_count": 180,
   "metadata": {},
   "outputs": [
    {
     "name": "stderr",
     "output_type": "stream",
     "text": [
      "C:\\Users\\luisgasco\\.conda\\envs\\tensorflow\\lib\\site-packages\\sklearn\\model_selection\\_split.py:297: FutureWarning: Setting a random_state has no effect since shuffle is False. This will raise an error in 0.24. You should leave random_state to its default (None), or set shuffle=True.\n",
      "  FutureWarning\n"
     ]
    },
    {
     "name": "stdout",
     "output_type": "stream",
     "text": [
      "# Tuning hyper-parameters for roc_auc\n",
      "\n",
      "Best parameters set found on development set:\n",
      "\n",
      "{'learning_rate': 0.1, 'max_depth': 5, 'min_child_weight': 3}\n",
      "\n",
      "Grid scores on development set:\n",
      "\n",
      "0.583 (+/-0.017) for {'learning_rate': 0.01, 'max_depth': 3, 'min_child_weight': 1}\n",
      "0.584 (+/-0.016) for {'learning_rate': 0.01, 'max_depth': 3, 'min_child_weight': 3}\n",
      "0.584 (+/-0.016) for {'learning_rate': 0.01, 'max_depth': 3, 'min_child_weight': 5}\n",
      "0.601 (+/-0.041) for {'learning_rate': 0.01, 'max_depth': 5, 'min_child_weight': 1}\n",
      "0.614 (+/-0.035) for {'learning_rate': 0.01, 'max_depth': 5, 'min_child_weight': 3}\n",
      "0.614 (+/-0.034) for {'learning_rate': 0.01, 'max_depth': 5, 'min_child_weight': 5}\n",
      "0.619 (+/-0.052) for {'learning_rate': 0.01, 'max_depth': 7, 'min_child_weight': 1}\n",
      "0.627 (+/-0.056) for {'learning_rate': 0.01, 'max_depth': 7, 'min_child_weight': 3}\n",
      "0.631 (+/-0.059) for {'learning_rate': 0.01, 'max_depth': 7, 'min_child_weight': 5}\n",
      "0.686 (+/-0.018) for {'learning_rate': 0.1, 'max_depth': 3, 'min_child_weight': 1}\n",
      "0.690 (+/-0.023) for {'learning_rate': 0.1, 'max_depth': 3, 'min_child_weight': 3}\n",
      "0.689 (+/-0.016) for {'learning_rate': 0.1, 'max_depth': 3, 'min_child_weight': 5}\n",
      "0.687 (+/-0.018) for {'learning_rate': 0.1, 'max_depth': 5, 'min_child_weight': 1}\n",
      "0.691 (+/-0.011) for {'learning_rate': 0.1, 'max_depth': 5, 'min_child_weight': 3}\n",
      "0.690 (+/-0.015) for {'learning_rate': 0.1, 'max_depth': 5, 'min_child_weight': 5}\n",
      "0.682 (+/-0.019) for {'learning_rate': 0.1, 'max_depth': 7, 'min_child_weight': 1}\n",
      "0.682 (+/-0.027) for {'learning_rate': 0.1, 'max_depth': 7, 'min_child_weight': 3}\n",
      "0.683 (+/-0.023) for {'learning_rate': 0.1, 'max_depth': 7, 'min_child_weight': 5}\n",
      "0.671 (+/-0.013) for {'learning_rate': 0.3, 'max_depth': 3, 'min_child_weight': 1}\n",
      "0.672 (+/-0.012) for {'learning_rate': 0.3, 'max_depth': 3, 'min_child_weight': 3}\n",
      "0.669 (+/-0.029) for {'learning_rate': 0.3, 'max_depth': 3, 'min_child_weight': 5}\n",
      "0.664 (+/-0.025) for {'learning_rate': 0.3, 'max_depth': 5, 'min_child_weight': 1}\n",
      "0.664 (+/-0.022) for {'learning_rate': 0.3, 'max_depth': 5, 'min_child_weight': 3}\n",
      "0.661 (+/-0.013) for {'learning_rate': 0.3, 'max_depth': 5, 'min_child_weight': 5}\n",
      "0.650 (+/-0.016) for {'learning_rate': 0.3, 'max_depth': 7, 'min_child_weight': 1}\n",
      "0.656 (+/-0.020) for {'learning_rate': 0.3, 'max_depth': 7, 'min_child_weight': 3}\n",
      "0.654 (+/-0.020) for {'learning_rate': 0.3, 'max_depth': 7, 'min_child_weight': 5}\n",
      "\n",
      "Detailed classification report:\n",
      "\n",
      "The model is trained on the full development set.\n",
      "The scores are computed on the full evaluation set.\n",
      "\n",
      "              precision    recall  f1-score   support\n",
      "\n",
      "         0.0       0.99      1.00      1.00    156921\n",
      "         1.0       0.67      0.06      0.10       912\n",
      "\n",
      "    accuracy                           0.99    157833\n",
      "   macro avg       0.83      0.53      0.55    157833\n",
      "weighted avg       0.99      0.99      0.99    157833\n",
      "\n",
      "\n",
      "# Tuning hyper-parameters for roc_auc\n",
      "\n",
      "Best parameters set found on development set:\n",
      "\n",
      "{'learning_rate': 0.1, 'max_depth': 5, 'min_child_weight': 1}\n",
      "\n",
      "Grid scores on development set:\n",
      "\n",
      "0.589 (+/-0.016) for {'learning_rate': 0.01, 'max_depth': 3, 'min_child_weight': 1}\n",
      "0.590 (+/-0.016) for {'learning_rate': 0.01, 'max_depth': 3, 'min_child_weight': 3}\n",
      "0.590 (+/-0.016) for {'learning_rate': 0.01, 'max_depth': 3, 'min_child_weight': 5}\n",
      "0.618 (+/-0.051) for {'learning_rate': 0.01, 'max_depth': 5, 'min_child_weight': 1}\n",
      "0.626 (+/-0.060) for {'learning_rate': 0.01, 'max_depth': 5, 'min_child_weight': 3}\n",
      "0.652 (+/-0.017) for {'learning_rate': 0.01, 'max_depth': 5, 'min_child_weight': 5}\n",
      "0.652 (+/-0.018) for {'learning_rate': 0.01, 'max_depth': 7, 'min_child_weight': 1}\n",
      "0.652 (+/-0.018) for {'learning_rate': 0.01, 'max_depth': 7, 'min_child_weight': 3}\n",
      "0.654 (+/-0.020) for {'learning_rate': 0.01, 'max_depth': 7, 'min_child_weight': 5}\n",
      "0.686 (+/-0.026) for {'learning_rate': 0.1, 'max_depth': 3, 'min_child_weight': 1}\n",
      "0.683 (+/-0.027) for {'learning_rate': 0.1, 'max_depth': 3, 'min_child_weight': 3}\n",
      "0.684 (+/-0.027) for {'learning_rate': 0.1, 'max_depth': 3, 'min_child_weight': 5}\n",
      "0.688 (+/-0.020) for {'learning_rate': 0.1, 'max_depth': 5, 'min_child_weight': 1}\n",
      "0.688 (+/-0.031) for {'learning_rate': 0.1, 'max_depth': 5, 'min_child_weight': 3}\n",
      "0.683 (+/-0.020) for {'learning_rate': 0.1, 'max_depth': 5, 'min_child_weight': 5}\n",
      "0.684 (+/-0.014) for {'learning_rate': 0.1, 'max_depth': 7, 'min_child_weight': 1}\n",
      "0.681 (+/-0.020) for {'learning_rate': 0.1, 'max_depth': 7, 'min_child_weight': 3}\n",
      "0.682 (+/-0.021) for {'learning_rate': 0.1, 'max_depth': 7, 'min_child_weight': 5}\n",
      "0.669 (+/-0.025) for {'learning_rate': 0.3, 'max_depth': 3, 'min_child_weight': 1}\n",
      "0.671 (+/-0.013) for {'learning_rate': 0.3, 'max_depth': 3, 'min_child_weight': 3}\n",
      "0.674 (+/-0.022) for {'learning_rate': 0.3, 'max_depth': 3, 'min_child_weight': 5}\n",
      "0.667 (+/-0.020) for {'learning_rate': 0.3, 'max_depth': 5, 'min_child_weight': 1}\n",
      "0.657 (+/-0.019) for {'learning_rate': 0.3, 'max_depth': 5, 'min_child_weight': 3}\n",
      "0.662 (+/-0.021) for {'learning_rate': 0.3, 'max_depth': 5, 'min_child_weight': 5}\n",
      "0.649 (+/-0.019) for {'learning_rate': 0.3, 'max_depth': 7, 'min_child_weight': 1}\n",
      "0.649 (+/-0.020) for {'learning_rate': 0.3, 'max_depth': 7, 'min_child_weight': 3}\n",
      "0.653 (+/-0.017) for {'learning_rate': 0.3, 'max_depth': 7, 'min_child_weight': 5}\n",
      "\n",
      "Detailed classification report:\n",
      "\n",
      "The model is trained on the full development set.\n",
      "The scores are computed on the full evaluation set.\n",
      "\n",
      "              precision    recall  f1-score   support\n",
      "\n",
      "         0.0       0.99      1.00      1.00    156920\n",
      "         1.0       0.55      0.05      0.09       913\n",
      "\n",
      "    accuracy                           0.99    157833\n",
      "   macro avg       0.77      0.52      0.54    157833\n",
      "weighted avg       0.99      0.99      0.99    157833\n",
      "\n",
      "\n",
      "# Tuning hyper-parameters for roc_auc\n",
      "\n",
      "Best parameters set found on development set:\n",
      "\n",
      "{'learning_rate': 0.1, 'max_depth': 3, 'min_child_weight': 1}\n",
      "\n",
      "Grid scores on development set:\n",
      "\n",
      "0.585 (+/-0.014) for {'learning_rate': 0.01, 'max_depth': 3, 'min_child_weight': 1}\n",
      "0.586 (+/-0.012) for {'learning_rate': 0.01, 'max_depth': 3, 'min_child_weight': 3}\n",
      "0.586 (+/-0.012) for {'learning_rate': 0.01, 'max_depth': 3, 'min_child_weight': 5}\n",
      "0.608 (+/-0.037) for {'learning_rate': 0.01, 'max_depth': 5, 'min_child_weight': 1}\n",
      "0.621 (+/-0.028) for {'learning_rate': 0.01, 'max_depth': 5, 'min_child_weight': 3}\n",
      "0.636 (+/-0.041) for {'learning_rate': 0.01, 'max_depth': 5, 'min_child_weight': 5}\n",
      "0.648 (+/-0.033) for {'learning_rate': 0.01, 'max_depth': 7, 'min_child_weight': 1}\n",
      "0.663 (+/-0.036) for {'learning_rate': 0.01, 'max_depth': 7, 'min_child_weight': 3}\n",
      "0.660 (+/-0.041) for {'learning_rate': 0.01, 'max_depth': 7, 'min_child_weight': 5}\n",
      "0.696 (+/-0.024) for {'learning_rate': 0.1, 'max_depth': 3, 'min_child_weight': 1}\n",
      "0.695 (+/-0.024) for {'learning_rate': 0.1, 'max_depth': 3, 'min_child_weight': 3}\n",
      "0.695 (+/-0.022) for {'learning_rate': 0.1, 'max_depth': 3, 'min_child_weight': 5}\n",
      "0.696 (+/-0.033) for {'learning_rate': 0.1, 'max_depth': 5, 'min_child_weight': 1}\n",
      "0.694 (+/-0.023) for {'learning_rate': 0.1, 'max_depth': 5, 'min_child_weight': 3}\n",
      "0.694 (+/-0.024) for {'learning_rate': 0.1, 'max_depth': 5, 'min_child_weight': 5}\n",
      "0.688 (+/-0.024) for {'learning_rate': 0.1, 'max_depth': 7, 'min_child_weight': 1}\n",
      "0.694 (+/-0.024) for {'learning_rate': 0.1, 'max_depth': 7, 'min_child_weight': 3}\n",
      "0.688 (+/-0.030) for {'learning_rate': 0.1, 'max_depth': 7, 'min_child_weight': 5}\n",
      "0.676 (+/-0.030) for {'learning_rate': 0.3, 'max_depth': 3, 'min_child_weight': 1}\n",
      "0.676 (+/-0.032) for {'learning_rate': 0.3, 'max_depth': 3, 'min_child_weight': 3}\n",
      "0.674 (+/-0.031) for {'learning_rate': 0.3, 'max_depth': 3, 'min_child_weight': 5}\n",
      "0.671 (+/-0.035) for {'learning_rate': 0.3, 'max_depth': 5, 'min_child_weight': 1}\n",
      "0.674 (+/-0.037) for {'learning_rate': 0.3, 'max_depth': 5, 'min_child_weight': 3}\n",
      "0.675 (+/-0.021) for {'learning_rate': 0.3, 'max_depth': 5, 'min_child_weight': 5}\n",
      "0.652 (+/-0.034) for {'learning_rate': 0.3, 'max_depth': 7, 'min_child_weight': 1}\n",
      "0.662 (+/-0.028) for {'learning_rate': 0.3, 'max_depth': 7, 'min_child_weight': 3}\n",
      "0.664 (+/-0.043) for {'learning_rate': 0.3, 'max_depth': 7, 'min_child_weight': 5}\n",
      "\n",
      "Detailed classification report:\n",
      "\n",
      "The model is trained on the full development set.\n",
      "The scores are computed on the full evaluation set.\n",
      "\n"
     ]
    },
    {
     "name": "stdout",
     "output_type": "stream",
     "text": [
      "              precision    recall  f1-score   support\n",
      "\n",
      "         0.0       0.99      1.00      1.00    156920\n",
      "         1.0       0.85      0.04      0.07       913\n",
      "\n",
      "    accuracy                           0.99    157833\n",
      "   macro avg       0.92      0.52      0.53    157833\n",
      "weighted avg       0.99      0.99      0.99    157833\n",
      "\n",
      "\n"
     ]
    }
   ],
   "source": [
    "from xgboost import XGBClassifier\n",
    "from sklearn.model_selection import GridSearchCV\n",
    "from sklearn.model_selection import StratifiedKFold,train_test_split\n",
    "from sklearn.metrics import accuracy_score,roc_auc_score, f1_score\n",
    "from sklearn.metrics import classification_report\n",
    "\n",
    "i=1\n",
    "param_grid = [{ 'min_child_weight': [1,3,5],\n",
    "                'max_depth':[3,5,7],\n",
    "                'learning_rate':[0.01,0.1,0.3]}]\n",
    "\n",
    "skf = StratifiedKFold(n_splits=3,random_state=42)              \n",
    "# Split the dataset in two equal parts\n",
    "\n",
    "scores = 'roc_auc'\n",
    "\n",
    "for train_index,test_index in skf.split(X_trans, y):\n",
    "    print(\"# Tuning hyper-parameters for %s\" % scores)\n",
    "    print()\n",
    "    X_train, X_test = X_trans.iloc[train_index], X_trans.iloc[test_index]\n",
    "    y_train, y_test = y.iloc[train_index], y.iloc[test_index]\n",
    "    \n",
    "    model = GridSearchCV(\n",
    "        XGBClassifier(), param_grid, scoring= scores\n",
    "    )\n",
    "    model.fit(X_train, y_train)\n",
    "\n",
    "    \n",
    "    print(\"Best parameters set found on development set:\")\n",
    "    print()\n",
    "    print(model.best_params_)\n",
    "    print()\n",
    "    print(\"Grid scores on development set:\")\n",
    "    print()\n",
    "    means = model.cv_results_['mean_test_score']\n",
    "    stds = model.cv_results_['std_test_score']\n",
    "    for mean, std, params in zip(means, stds, model.cv_results_['params']):\n",
    "        print(\"%0.3f (+/-%0.03f) for %r\"\n",
    "              % (mean, std * 2, params))\n",
    "    print()\n",
    "    print(\"Detailed classification report:\")\n",
    "    print()\n",
    "    print(\"The model is trained on the full development set.\")\n",
    "    print(\"The scores are computed on the full evaluation set.\")\n",
    "    print()\n",
    "    y_true, y_pred = y_test, model.predict(X_test)\n",
    "    print(classification_report(y_true, y_pred))\n",
    "    print()\n",
    "    "
   ]
  },
  {
   "cell_type": "code",
   "execution_count": 110,
   "metadata": {},
   "outputs": [
    {
     "data": {
      "text/plain": [
       "(789164,)"
      ]
     },
     "execution_count": 110,
     "metadata": {},
     "output_type": "execute_result"
    }
   ],
   "source": [
    "y_train.shape"
   ]
  },
  {
   "cell_type": "markdown",
   "metadata": {},
   "source": [
    "# Train the final model with the previous hyperparameters and CV"
   ]
  },
  {
   "cell_type": "markdown",
   "metadata": {},
   "source": [
    "Train the model with the best parameters obtained before:\n",
    "    {'learning_rate': 0.1, 'max_depth': 5, 'min_child_weight': 3}"
   ]
  },
  {
   "cell_type": "code",
   "execution_count": 188,
   "metadata": {},
   "outputs": [
    {
     "name": "stderr",
     "output_type": "stream",
     "text": [
      "C:\\Users\\luisgasco\\.conda\\envs\\tensorflow\\lib\\site-packages\\sklearn\\model_selection\\_split.py:297: FutureWarning: Setting a random_state has no effect since shuffle is False. This will raise an error in 0.24. You should leave random_state to its default (None), or set shuffle=True.\n",
      "  FutureWarning\n"
     ]
    },
    {
     "name": "stdout",
     "output_type": "stream",
     "text": [
      "roc-auc: 0.704\n",
      "0.5228209508850681\n",
      "roc-auc: 0.688\n",
      "0.587084378193492\n",
      "roc-auc: 0.686\n",
      "0.6924511534374966\n"
     ]
    }
   ],
   "source": [
    "model_fin = XGBClassifier(learning_rate=0.1, max_depth=5,n_estimators=100,min_child_weight=3, nthread=-1)\n",
    "skf = StratifiedKFold(n_splits=3,random_state=42)  \n",
    "\n",
    "\n",
    "preds = np.ones(y.shape[0])\n",
    "\n",
    "for train_index,test_index in skf.split(X_trans, y):\n",
    "    preds[test_index] = model_fin.fit(X_trans.iloc[train_index], y.iloc[train_index]).predict_proba(X_trans.iloc[test_index])[:,1]\n",
    "    print(\"roc-auc: {:.3f}\".format(roc_auc_score(y.iloc[test_index], preds[test_index])))\n",
    "    print(roc_auc_score(y, preds))\n",
    "\n",
    "\n"
   ]
  },
  {
   "cell_type": "markdown",
   "metadata": {},
   "source": [
    "Mean and std of auc:"
   ]
  },
  {
   "cell_type": "code",
   "execution_count": 195,
   "metadata": {},
   "outputs": [
    {
     "name": "stdout",
     "output_type": "stream",
     "text": [
      "Mean auc score:0.6926666666666667\n",
      "Std auc score:0.008055363982396358\n"
     ]
    }
   ],
   "source": [
    "print(\"Mean auc score:\" + str(np.array([0.704,0.688,0.686]).mean()))\n",
    "print(\"Std auc score:\" + str(np.array([0.704,0.688,0.686]).std()))"
   ]
  },
  {
   "cell_type": "code",
   "execution_count": 196,
   "metadata": {},
   "outputs": [],
   "source": [
    "# Save the model to load it after and modify the categorical features of the test dataset (and the train one too)\n",
    "import pickle\n",
    "# open a file, where you ant to store the data\n",
    "\n",
    "filename = \"C://Users/luisgasco/Documents/bosh_kaggle_comp/data/final_prediction_model.sav\"\n",
    "pickle.dump(model_fin, open(filename, 'wb'))"
   ]
  },
  {
   "cell_type": "code",
   "execution_count": null,
   "metadata": {},
   "outputs": [],
   "source": []
  },
  {
   "cell_type": "markdown",
   "metadata": {},
   "source": [
    "# Select the best threshold of the Matthews Correlation  Coefficient\n"
   ]
  },
  {
   "cell_type": "code",
   "execution_count": 200,
   "metadata": {},
   "outputs": [
    {
     "name": "stderr",
     "output_type": "stream",
     "text": [
      "C:\\Users\\luisgasco\\.conda\\envs\\tensorflow\\lib\\site-packages\\sklearn\\metrics\\_classification.py:846: RuntimeWarning: invalid value encountered in double_scalars\n",
      "  mcc = cov_ytyp / np.sqrt(cov_ytyt * cov_ypyp)\n"
     ]
    },
    {
     "data": {
      "image/png": "[encoded data removed]",
      "text/plain": [
       "<Figure size 432x288 with 1 Axes>"
      ]
     },
     "metadata": {
      "needs_background": "light"
     },
     "output_type": "display_data"
    }
   ],
   "source": [
    "# It's 5.12 am. I'm tired, this code is taken from a Kaggle notebook to plot the MCC\n",
    "from sklearn.metrics import matthews_corrcoef\n",
    "\n",
    "thresholds = np.linspace(0.01, 0.99, 100)\n",
    "mcc = np.array([matthews_corrcoef(y, preds>thr) for thr in thresholds])\n",
    "plt.plot(thresholds, mcc)\n",
    "plt.xlabel('MCC')\n",
    "plt.ylabel('Thresholds')\n",
    "\n",
    "best_threshold = thresholds[mcc.argmax()]"
   ]
  },
  {
   "cell_type": "code",
   "execution_count": 199,
   "metadata": {},
   "outputs": [
    {
     "name": "stdout",
     "output_type": "stream",
     "text": [
      "The optimal threshold of the MCC is 0.246\n"
     ]
    }
   ],
   "source": [
    "print(\"The optimal threshold of the MCC is \" + str(round(mcc.max(),3)))"
   ]
  },
  {
   "cell_type": "markdown",
   "metadata": {},
   "source": [
    "# Feature importance"
   ]
  },
  {
   "cell_type": "code",
   "execution_count": 201,
   "metadata": {},
   "outputs": [],
   "source": [
    "df_importance = pd.DataFrame({'feature_name':X_trans.columns, 'importance':model_fin.feature_importances_})\n",
    "df_importance = df_importance.sort_values(by=['importance'], ascending=False)\n",
    "df_importance_150 = df_importance[:150] "
   ]
  },
  {
   "cell_type": "code",
   "execution_count": 204,
   "metadata": {},
   "outputs": [
    {
     "data": {
      "text/html": [
       "<div>\n",
       "<style scoped>\n",
       "    .dataframe tbody tr th:only-of-type {\n",
       "        vertical-align: middle;\n",
       "    }\n",
       "\n",
       "    .dataframe tbody tr th {\n",
       "        vertical-align: top;\n",
       "    }\n",
       "\n",
       "    .dataframe thead th {\n",
       "        text-align: right;\n",
       "    }\n",
       "</style>\n",
       "<table border=\"1\" class=\"dataframe\">\n",
       "  <thead>\n",
       "    <tr style=\"text-align: right;\">\n",
       "      <th></th>\n",
       "      <th>feature_name</th>\n",
       "      <th>importance</th>\n",
       "    </tr>\n",
       "  </thead>\n",
       "  <tbody>\n",
       "    <tr>\n",
       "      <th>149</th>\n",
       "      <td>L3_S32_F3854</td>\n",
       "      <td>0.047177</td>\n",
       "    </tr>\n",
       "    <tr>\n",
       "      <th>75</th>\n",
       "      <td>L1_S24_F1723</td>\n",
       "      <td>0.016464</td>\n",
       "    </tr>\n",
       "    <tr>\n",
       "      <th>141</th>\n",
       "      <td>L3_S33_F3865</td>\n",
       "      <td>0.013632</td>\n",
       "    </tr>\n",
       "    <tr>\n",
       "      <th>140</th>\n",
       "      <td>L3_S33_F3859</td>\n",
       "      <td>0.013241</td>\n",
       "    </tr>\n",
       "    <tr>\n",
       "      <th>50</th>\n",
       "      <td>L0_S11_F310</td>\n",
       "      <td>0.012765</td>\n",
       "    </tr>\n",
       "    <tr>\n",
       "      <th>...</th>\n",
       "      <td>...</td>\n",
       "      <td>...</td>\n",
       "    </tr>\n",
       "    <tr>\n",
       "      <th>142</th>\n",
       "      <td>L3_S33_F3871</td>\n",
       "      <td>0.000000</td>\n",
       "    </tr>\n",
       "    <tr>\n",
       "      <th>144</th>\n",
       "      <td>L3_S36_F3918</td>\n",
       "      <td>0.000000</td>\n",
       "    </tr>\n",
       "    <tr>\n",
       "      <th>65</th>\n",
       "      <td>L1_S24_F679</td>\n",
       "      <td>0.000000</td>\n",
       "    </tr>\n",
       "    <tr>\n",
       "      <th>148</th>\n",
       "      <td>L3_S48_F4193</td>\n",
       "      <td>0.000000</td>\n",
       "    </tr>\n",
       "    <tr>\n",
       "      <th>77</th>\n",
       "      <td>L1_S24_F1820</td>\n",
       "      <td>0.000000</td>\n",
       "    </tr>\n",
       "  </tbody>\n",
       "</table>\n",
       "<p>150 rows × 2 columns</p>\n",
       "</div>"
      ],
      "text/plain": [
       "     feature_name  importance\n",
       "149  L3_S32_F3854    0.047177\n",
       "75   L1_S24_F1723    0.016464\n",
       "141  L3_S33_F3865    0.013632\n",
       "140  L3_S33_F3859    0.013241\n",
       "50    L0_S11_F310    0.012765\n",
       "..            ...         ...\n",
       "142  L3_S33_F3871    0.000000\n",
       "144  L3_S36_F3918    0.000000\n",
       "65    L1_S24_F679    0.000000\n",
       "148  L3_S48_F4193    0.000000\n",
       "77   L1_S24_F1820    0.000000\n",
       "\n",
       "[150 rows x 2 columns]"
      ]
     },
     "execution_count": 204,
     "metadata": {},
     "output_type": "execute_result"
    }
   ],
   "source": [
    "df_importance_150"
   ]
  },
  {
   "cell_type": "code",
   "execution_count": 208,
   "metadata": {},
   "outputs": [
    {
     "data": {
      "text/plain": [
       "L3_S32_F3854    0.047177\n",
       "L1_S24_F1723    0.016464\n",
       "L3_S33_F3865    0.013632\n",
       "L3_S33_F3859    0.013241\n",
       "L0_S11_F310     0.012765\n",
       "L1_S24_F1846    0.011993\n",
       "L3_S29_F3357    0.011529\n",
       "L3_S38_D3953    0.011372\n",
       "L3_S30_F3494    0.010927\n",
       "L1_S24_F1695    0.010618\n",
       "dtype: float32"
      ]
     },
     "execution_count": 208,
     "metadata": {},
     "output_type": "execute_result"
    }
   ],
   "source": [
    "most_important_features = pd.Series(model_fin.feature_importances_, index=X_trans.columns).nlargest(10)\n",
    "most_important_features."
   ]
  },
  {
   "cell_type": "code",
   "execution_count": 211,
   "metadata": {},
   "outputs": [
    {
     "data": {
      "text/plain": [
       "<matplotlib.axes._subplots.AxesSubplot at 0x20f81317148>"
      ]
     },
     "execution_count": 211,
     "metadata": {},
     "output_type": "execute_result"
    },
    {
     "data": {
      "image/png": "[encoded data removed]",
      "text/plain": [
       "<Figure size 432x288 with 1 Axes>"
      ]
     },
     "metadata": {
      "needs_background": "light"
     },
     "output_type": "display_data"
    }
   ],
   "source": [
    "# Plot\n",
    "sns.barplot(y=most_important_features.index, x=most_important_features.values)\n"
   ]
  }
 ],
 "metadata": {
  "kernelspec": {
   "display_name": "Python 3.7 (tensorflow)",
   "language": "python",
   "name": "tensorflow"
  },
  "language_info": {
   "codemirror_mode": {
    "name": "ipython",
    "version": 3
   },
   "file_extension": ".py",
   "mimetype": "text/x-python",
   "name": "python",
   "nbconvert_exporter": "python",
   "pygments_lexer": "ipython3",
   "version": "3.7.7"
  }
 },
 "nbformat": 4,
 "nbformat_minor": 4
}
